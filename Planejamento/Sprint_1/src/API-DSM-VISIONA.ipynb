{
 "cells": [
  {
   "cell_type": "markdown",
   "metadata": {},
   "source": [
    "### Requirements"
   ]
  },
  {
   "cell_type": "code",
   "execution_count": null,
   "metadata": {},
   "outputs": [
    {
     "name": "stdout",
     "output_type": "stream",
     "text": [
      "Requirement already satisfied: requests in c:\\users\\annakks\\appdata\\local\\programs\\python\\python36\\lib\\site-packages (2.26.0)\n",
      "Requirement already satisfied: idna<4,>=2.5 in c:\\users\\annakks\\appdata\\local\\programs\\python\\python36\\lib\\site-packages (from requests) (3.2)\n",
      "Requirement already satisfied: charset-normalizer~=2.0.0 in c:\\users\\annakks\\appdata\\local\\programs\\python\\python36\\lib\\site-packages (from requests) (2.0.4)\n",
      "Requirement already satisfied: certifi>=2017.4.17 in c:\\users\\annakks\\appdata\\local\\programs\\python\\python36\\lib\\site-packages (from requests) (2021.5.30)\n",
      "Requirement already satisfied: urllib3<1.27,>=1.21.1 in c:\\users\\annakks\\appdata\\local\\programs\\python\\python36\\lib\\site-packages (from requests) (1.26.6)\n"
     ]
    },
    {
     "name": "stderr",
     "output_type": "stream",
     "text": [
      "ERROR: Could not find a version that satisfies the requirement json (from versions: none)\n",
      "ERROR: No matching distribution found for json\n"
     ]
    },
    {
     "name": "stdout",
     "output_type": "stream",
     "text": [
      "Requirement already satisfied: pystac[orjson] in c:\\users\\annakks\\appdata\\local\\programs\\python\\python36\\lib\\site-packages (0.5.6)\n",
      "Requirement already satisfied: python-dateutil>=2.7.0 in c:\\users\\annakks\\appdata\\local\\programs\\python\\python36\\lib\\site-packages (from pystac[orjson]) (2.8.2)\n",
      "Requirement already satisfied: six>=1.5 in c:\\users\\annakks\\appdata\\local\\programs\\python\\python36\\lib\\site-packages (from python-dateutil>=2.7.0->pystac[orjson]) (1.16.0)\n"
     ]
    },
    {
     "name": "stderr",
     "output_type": "stream",
     "text": [
      "WARNING: pystac 0.5.6 does not provide the extra 'orjson'\n"
     ]
    },
    {
     "name": "stdout",
     "output_type": "stream",
     "text": [
      "Requirement already satisfied: pystac[validation] in c:\\users\\annakks\\appdata\\local\\programs\\python\\python36\\lib\\site-packages (0.5.6)\n",
      "Requirement already satisfied: python-dateutil>=2.7.0 in c:\\users\\annakks\\appdata\\local\\programs\\python\\python36\\lib\\site-packages (from pystac[validation]) (2.8.2)\n",
      "Requirement already satisfied: jsonschema==3.2.0 in c:\\users\\annakks\\appdata\\local\\programs\\python\\python36\\lib\\site-packages (from pystac[validation]) (3.2.0)\n",
      "Requirement already satisfied: six>=1.11.0 in c:\\users\\annakks\\appdata\\local\\programs\\python\\python36\\lib\\site-packages (from jsonschema==3.2.0->pystac[validation]) (1.16.0)\n",
      "Requirement already satisfied: setuptools in c:\\users\\annakks\\appdata\\local\\programs\\python\\python36\\lib\\site-packages (from jsonschema==3.2.0->pystac[validation]) (39.0.1)\n",
      "Requirement already satisfied: importlib-metadata in c:\\users\\annakks\\appdata\\local\\programs\\python\\python36\\lib\\site-packages (from jsonschema==3.2.0->pystac[validation]) (4.8.1)\n",
      "Requirement already satisfied: pyrsistent>=0.14.0 in c:\\users\\annakks\\appdata\\local\\programs\\python\\python36\\lib\\site-packages (from jsonschema==3.2.0->pystac[validation]) (0.18.0)\n",
      "Requirement already satisfied: attrs>=17.4.0 in c:\\users\\annakks\\appdata\\local\\programs\\python\\python36\\lib\\site-packages (from jsonschema==3.2.0->pystac[validation]) (21.2.0)\n",
      "Requirement already satisfied: zipp>=0.5 in c:\\users\\annakks\\appdata\\local\\programs\\python\\python36\\lib\\site-packages (from importlib-metadata->jsonschema==3.2.0->pystac[validation]) (3.5.0)\n",
      "Requirement already satisfied: typing-extensions>=3.6.4 in c:\\users\\annakks\\appdata\\local\\programs\\python\\python36\\lib\\site-packages (from importlib-metadata->jsonschema==3.2.0->pystac[validation]) (3.10.0.2)\n",
      "Requirement already satisfied: pystac in c:\\users\\annakks\\appdata\\local\\programs\\python\\python36\\lib\\site-packages (0.5.6)\n",
      "Requirement already satisfied: python-dateutil>=2.7.0 in c:\\users\\annakks\\appdata\\local\\programs\\python\\python36\\lib\\site-packages (from pystac) (2.8.2)\n",
      "Requirement already satisfied: six>=1.5 in c:\\users\\annakks\\appdata\\local\\programs\\python\\python36\\lib\\site-packages (from python-dateutil>=2.7.0->pystac) (1.16.0)\n",
      "Requirement already satisfied: boto3 in c:\\users\\annakks\\appdata\\local\\programs\\python\\python36\\lib\\site-packages (1.18.43)\n",
      "Requirement already satisfied: s3transfer<0.6.0,>=0.5.0 in c:\\users\\annakks\\appdata\\local\\programs\\python\\python36\\lib\\site-packages (from boto3) (0.5.0)\n",
      "Requirement already satisfied: botocore<1.22.0,>=1.21.43 in c:\\users\\annakks\\appdata\\local\\programs\\python\\python36\\lib\\site-packages (from boto3) (1.21.43)\n",
      "Requirement already satisfied: jmespath<1.0.0,>=0.7.1 in c:\\users\\annakks\\appdata\\local\\programs\\python\\python36\\lib\\site-packages (from boto3) (0.10.0)\n",
      "Requirement already satisfied: python-dateutil<3.0.0,>=2.1 in c:\\users\\annakks\\appdata\\local\\programs\\python\\python36\\lib\\site-packages (from botocore<1.22.0,>=1.21.43->boto3) (2.8.2)\n",
      "Requirement already satisfied: urllib3<1.27,>=1.25.4 in c:\\users\\annakks\\appdata\\local\\programs\\python\\python36\\lib\\site-packages (from botocore<1.22.0,>=1.21.43->boto3) (1.26.6)\n",
      "Requirement already satisfied: six>=1.5 in c:\\users\\annakks\\appdata\\local\\programs\\python\\python36\\lib\\site-packages (from python-dateutil<3.0.0,>=2.1->botocore<1.22.0,>=1.21.43->boto3) (1.16.0)\n",
      "Requirement already satisfied: shapely in c:\\users\\annakks\\appdata\\local\\programs\\python\\python36\\lib\\site-packages (1.7.1)\n",
      "Requirement already satisfied: leafmap in c:\\users\\annakks\\appdata\\local\\programs\\python\\python36\\lib\\site-packages (0.4.0)\n",
      "Requirement already satisfied: ipyevents<=0.9.0 in c:\\users\\annakks\\appdata\\local\\programs\\python\\python36\\lib\\site-packages (from leafmap) (0.9.0)\n",
      "Requirement already satisfied: pandas in c:\\users\\annakks\\appdata\\local\\programs\\python\\python36\\lib\\site-packages (from leafmap) (1.1.5)\n",
      "Requirement already satisfied: googledrivedownloader in c:\\users\\annakks\\appdata\\local\\programs\\python\\python36\\lib\\site-packages (from leafmap) (0.4)\n",
      "Requirement already satisfied: colour in c:\\users\\annakks\\appdata\\local\\programs\\python\\python36\\lib\\site-packages (from leafmap) (0.1.5)\n",
      "Requirement already satisfied: matplotlib in c:\\users\\annakks\\appdata\\local\\programs\\python\\python36\\lib\\site-packages (from leafmap) (3.3.4)\n",
      "Requirement already satisfied: numpy in c:\\users\\annakks\\appdata\\local\\programs\\python\\python36\\lib\\site-packages (from leafmap) (1.19.5)\n",
      "Requirement already satisfied: python-box in c:\\users\\annakks\\appdata\\local\\programs\\python\\python36\\lib\\site-packages (from leafmap) (5.4.1)\n",
      "Requirement already satisfied: bqplot in c:\\users\\annakks\\appdata\\local\\programs\\python\\python36\\lib\\site-packages (from leafmap) (0.12.30)\n",
      "Requirement already satisfied: whitebox in c:\\users\\annakks\\appdata\\local\\programs\\python\\python36\\lib\\site-packages (from leafmap) (2.0.3)\n",
      "Requirement already satisfied: pycrs in c:\\users\\annakks\\appdata\\local\\programs\\python\\python36\\lib\\site-packages (from leafmap) (1.0.2)\n",
      "Requirement already satisfied: geojson in c:\\users\\annakks\\appdata\\local\\programs\\python\\python36\\lib\\site-packages (from leafmap) (2.5.0)\n",
      "Requirement already satisfied: whiteboxgui in c:\\users\\annakks\\appdata\\local\\programs\\python\\python36\\lib\\site-packages (from leafmap) (0.5.0)\n",
      "Requirement already satisfied: pyshp>=2.1.3 in c:\\users\\annakks\\appdata\\local\\programs\\python\\python36\\lib\\site-packages (from leafmap) (2.1.3)\n",
      "Requirement already satisfied: here-map-widget-for-jupyter>=1.1.1 in c:\\users\\annakks\\appdata\\local\\programs\\python\\python36\\lib\\site-packages (from leafmap) (1.1.1)\n",
      "Requirement already satisfied: ipyleaflet in c:\\users\\annakks\\appdata\\local\\programs\\python\\python36\\lib\\site-packages (from leafmap) (0.14.0)\n",
      "Requirement already satisfied: mss in c:\\users\\annakks\\appdata\\local\\programs\\python\\python36\\lib\\site-packages (from leafmap) (6.1.0)\n",
      "Requirement already satisfied: folium>=0.12.0 in c:\\users\\annakks\\appdata\\local\\programs\\python\\python36\\lib\\site-packages (from leafmap) (0.12.1)\n",
      "Requirement already satisfied: requests in c:\\users\\annakks\\appdata\\local\\programs\\python\\python36\\lib\\site-packages (from folium>=0.12.0->leafmap) (2.26.0)\n",
      "Requirement already satisfied: jinja2>=2.9 in c:\\users\\annakks\\appdata\\local\\programs\\python\\python36\\lib\\site-packages (from folium>=0.12.0->leafmap) (3.0.1)\n",
      "Requirement already satisfied: branca>=0.3.0 in c:\\users\\annakks\\appdata\\local\\programs\\python\\python36\\lib\\site-packages (from folium>=0.12.0->leafmap) (0.4.2)\n",
      "Requirement already satisfied: ipywidgets<8,>=7.6.0 in c:\\users\\annakks\\appdata\\local\\programs\\python\\python36\\lib\\site-packages (from here-map-widget-for-jupyter>=1.1.1->leafmap) (7.6.5)\n",
      "Requirement already satisfied: ipykernel>=4.5.1 in c:\\users\\annakks\\appdata\\local\\programs\\python\\python36\\lib\\site-packages (from ipywidgets<8,>=7.6.0->here-map-widget-for-jupyter>=1.1.1->leafmap) (5.5.5)\n",
      "Requirement already satisfied: widgetsnbextension~=3.5.0 in c:\\users\\annakks\\appdata\\local\\programs\\python\\python36\\lib\\site-packages (from ipywidgets<8,>=7.6.0->here-map-widget-for-jupyter>=1.1.1->leafmap) (3.5.1)\n",
      "Requirement already satisfied: ipython-genutils~=0.2.0 in c:\\users\\annakks\\appdata\\local\\programs\\python\\python36\\lib\\site-packages (from ipywidgets<8,>=7.6.0->here-map-widget-for-jupyter>=1.1.1->leafmap) (0.2.0)\n",
      "Requirement already satisfied: nbformat>=4.2.0 in c:\\users\\annakks\\appdata\\local\\programs\\python\\python36\\lib\\site-packages (from ipywidgets<8,>=7.6.0->here-map-widget-for-jupyter>=1.1.1->leafmap) (5.1.3)\n",
      "Requirement already satisfied: jupyterlab-widgets>=1.0.0 in c:\\users\\annakks\\appdata\\local\\programs\\python\\python36\\lib\\site-packages (from ipywidgets<8,>=7.6.0->here-map-widget-for-jupyter>=1.1.1->leafmap) (1.0.2)\n",
      "Requirement already satisfied: traitlets>=4.3.1 in c:\\users\\annakks\\appdata\\local\\programs\\python\\python36\\lib\\site-packages (from ipywidgets<8,>=7.6.0->here-map-widget-for-jupyter>=1.1.1->leafmap) (4.3.3)\n",
      "Requirement already satisfied: ipython>=4.0.0 in c:\\users\\annakks\\appdata\\local\\programs\\python\\python36\\lib\\site-packages (from ipywidgets<8,>=7.6.0->here-map-widget-for-jupyter>=1.1.1->leafmap) (7.16.1)\n",
      "Requirement already satisfied: jupyter-client in c:\\users\\annakks\\appdata\\local\\programs\\python\\python36\\lib\\site-packages (from ipykernel>=4.5.1->ipywidgets<8,>=7.6.0->here-map-widget-for-jupyter>=1.1.1->leafmap) (7.0.2)\n",
      "Requirement already satisfied: tornado>=4.2 in c:\\users\\annakks\\appdata\\local\\programs\\python\\python36\\lib\\site-packages (from ipykernel>=4.5.1->ipywidgets<8,>=7.6.0->here-map-widget-for-jupyter>=1.1.1->leafmap) (6.1)\n",
      "Requirement already satisfied: backcall in c:\\users\\annakks\\appdata\\local\\programs\\python\\python36\\lib\\site-packages (from ipython>=4.0.0->ipywidgets<8,>=7.6.0->here-map-widget-for-jupyter>=1.1.1->leafmap) (0.2.0)\n",
      "Requirement already satisfied: pygments in c:\\users\\annakks\\appdata\\local\\programs\\python\\python36\\lib\\site-packages (from ipython>=4.0.0->ipywidgets<8,>=7.6.0->here-map-widget-for-jupyter>=1.1.1->leafmap) (2.10.0)\n",
      "Requirement already satisfied: pickleshare in c:\\users\\annakks\\appdata\\local\\programs\\python\\python36\\lib\\site-packages (from ipython>=4.0.0->ipywidgets<8,>=7.6.0->here-map-widget-for-jupyter>=1.1.1->leafmap) (0.7.5)\n",
      "Requirement already satisfied: setuptools>=18.5 in c:\\users\\annakks\\appdata\\local\\programs\\python\\python36\\lib\\site-packages (from ipython>=4.0.0->ipywidgets<8,>=7.6.0->here-map-widget-for-jupyter>=1.1.1->leafmap) (39.0.1)\n",
      "Requirement already satisfied: prompt-toolkit!=3.0.0,!=3.0.1,<3.1.0,>=2.0.0 in c:\\users\\annakks\\appdata\\local\\programs\\python\\python36\\lib\\site-packages (from ipython>=4.0.0->ipywidgets<8,>=7.6.0->here-map-widget-for-jupyter>=1.1.1->leafmap) (3.0.20)\n",
      "Requirement already satisfied: jedi>=0.10 in c:\\users\\annakks\\appdata\\local\\programs\\python\\python36\\lib\\site-packages (from ipython>=4.0.0->ipywidgets<8,>=7.6.0->here-map-widget-for-jupyter>=1.1.1->leafmap) (0.18.0)\n",
      "Requirement already satisfied: decorator in c:\\users\\annakks\\appdata\\local\\programs\\python\\python36\\lib\\site-packages (from ipython>=4.0.0->ipywidgets<8,>=7.6.0->here-map-widget-for-jupyter>=1.1.1->leafmap) (5.0.9)\n",
      "Requirement already satisfied: colorama in c:\\users\\annakks\\appdata\\roaming\\python\\python36\\site-packages (from ipython>=4.0.0->ipywidgets<8,>=7.6.0->here-map-widget-for-jupyter>=1.1.1->leafmap) (0.4.3)\n",
      "Requirement already satisfied: parso<0.9.0,>=0.8.0 in c:\\users\\annakks\\appdata\\local\\programs\\python\\python36\\lib\\site-packages (from jedi>=0.10->ipython>=4.0.0->ipywidgets<8,>=7.6.0->here-map-widget-for-jupyter>=1.1.1->leafmap) (0.8.2)\n",
      "Requirement already satisfied: MarkupSafe>=2.0 in c:\\users\\annakks\\appdata\\local\\programs\\python\\python36\\lib\\site-packages (from jinja2>=2.9->folium>=0.12.0->leafmap) (2.0.1)\n",
      "Requirement already satisfied: jupyter-core in c:\\users\\annakks\\appdata\\local\\programs\\python\\python36\\lib\\site-packages (from nbformat>=4.2.0->ipywidgets<8,>=7.6.0->here-map-widget-for-jupyter>=1.1.1->leafmap) (4.7.1)\n",
      "Requirement already satisfied: jsonschema!=2.5.0,>=2.4 in c:\\users\\annakks\\appdata\\local\\programs\\python\\python36\\lib\\site-packages (from nbformat>=4.2.0->ipywidgets<8,>=7.6.0->here-map-widget-for-jupyter>=1.1.1->leafmap) (3.2.0)\n",
      "Requirement already satisfied: attrs>=17.4.0 in c:\\users\\annakks\\appdata\\local\\programs\\python\\python36\\lib\\site-packages (from jsonschema!=2.5.0,>=2.4->nbformat>=4.2.0->ipywidgets<8,>=7.6.0->here-map-widget-for-jupyter>=1.1.1->leafmap) (21.2.0)\n",
      "Requirement already satisfied: importlib-metadata in c:\\users\\annakks\\appdata\\local\\programs\\python\\python36\\lib\\site-packages (from jsonschema!=2.5.0,>=2.4->nbformat>=4.2.0->ipywidgets<8,>=7.6.0->here-map-widget-for-jupyter>=1.1.1->leafmap) (4.8.1)\n",
      "Requirement already satisfied: pyrsistent>=0.14.0 in c:\\users\\annakks\\appdata\\local\\programs\\python\\python36\\lib\\site-packages (from jsonschema!=2.5.0,>=2.4->nbformat>=4.2.0->ipywidgets<8,>=7.6.0->here-map-widget-for-jupyter>=1.1.1->leafmap) (0.18.0)\n",
      "Requirement already satisfied: six>=1.11.0 in c:\\users\\annakks\\appdata\\local\\programs\\python\\python36\\lib\\site-packages (from jsonschema!=2.5.0,>=2.4->nbformat>=4.2.0->ipywidgets<8,>=7.6.0->here-map-widget-for-jupyter>=1.1.1->leafmap) (1.16.0)\n",
      "Requirement already satisfied: wcwidth in c:\\users\\annakks\\appdata\\local\\programs\\python\\python36\\lib\\site-packages (from prompt-toolkit!=3.0.0,!=3.0.1,<3.1.0,>=2.0.0->ipython>=4.0.0->ipywidgets<8,>=7.6.0->here-map-widget-for-jupyter>=1.1.1->leafmap) (0.2.5)\n",
      "Requirement already satisfied: notebook>=4.4.1 in c:\\users\\annakks\\appdata\\local\\programs\\python\\python36\\lib\\site-packages (from widgetsnbextension~=3.5.0->ipywidgets<8,>=7.6.0->here-map-widget-for-jupyter>=1.1.1->leafmap) (6.4.4)\n",
      "Requirement already satisfied: Send2Trash>=1.5.0 in c:\\users\\annakks\\appdata\\local\\programs\\python\\python36\\lib\\site-packages (from notebook>=4.4.1->widgetsnbextension~=3.5.0->ipywidgets<8,>=7.6.0->here-map-widget-for-jupyter>=1.1.1->leafmap) (1.8.0)\n",
      "Requirement already satisfied: argon2-cffi in c:\\users\\annakks\\appdata\\local\\programs\\python\\python36\\lib\\site-packages (from notebook>=4.4.1->widgetsnbextension~=3.5.0->ipywidgets<8,>=7.6.0->here-map-widget-for-jupyter>=1.1.1->leafmap) (21.1.0)\n",
      "Requirement already satisfied: pyzmq>=17 in c:\\users\\annakks\\appdata\\local\\programs\\python\\python36\\lib\\site-packages (from notebook>=4.4.1->widgetsnbextension~=3.5.0->ipywidgets<8,>=7.6.0->here-map-widget-for-jupyter>=1.1.1->leafmap) (22.2.1)\n",
      "Requirement already satisfied: nbconvert in c:\\users\\annakks\\appdata\\local\\programs\\python\\python36\\lib\\site-packages (from notebook>=4.4.1->widgetsnbextension~=3.5.0->ipywidgets<8,>=7.6.0->here-map-widget-for-jupyter>=1.1.1->leafmap) (6.0.7)\n",
      "Requirement already satisfied: prometheus-client in c:\\users\\annakks\\appdata\\local\\programs\\python\\python36\\lib\\site-packages (from notebook>=4.4.1->widgetsnbextension~=3.5.0->ipywidgets<8,>=7.6.0->here-map-widget-for-jupyter>=1.1.1->leafmap) (0.11.0)\n",
      "Requirement already satisfied: terminado>=0.8.3 in c:\\users\\annakks\\appdata\\local\\programs\\python\\python36\\lib\\site-packages (from notebook>=4.4.1->widgetsnbextension~=3.5.0->ipywidgets<8,>=7.6.0->here-map-widget-for-jupyter>=1.1.1->leafmap) (0.12.1)\n",
      "Requirement already satisfied: entrypoints in c:\\users\\annakks\\appdata\\local\\programs\\python\\python36\\lib\\site-packages (from jupyter-client->ipykernel>=4.5.1->ipywidgets<8,>=7.6.0->here-map-widget-for-jupyter>=1.1.1->leafmap) (0.3)\n",
      "Requirement already satisfied: nest-asyncio>=1.5 in c:\\users\\annakks\\appdata\\local\\programs\\python\\python36\\lib\\site-packages (from jupyter-client->ipykernel>=4.5.1->ipywidgets<8,>=7.6.0->here-map-widget-for-jupyter>=1.1.1->leafmap) (1.5.1)\n",
      "Requirement already satisfied: python-dateutil>=2.1 in c:\\users\\annakks\\appdata\\local\\programs\\python\\python36\\lib\\site-packages (from jupyter-client->ipykernel>=4.5.1->ipywidgets<8,>=7.6.0->here-map-widget-for-jupyter>=1.1.1->leafmap) (2.8.2)\n",
      "Requirement already satisfied: pywin32>=1.0 in c:\\users\\annakks\\appdata\\local\\programs\\python\\python36\\lib\\site-packages (from jupyter-core->nbformat>=4.2.0->ipywidgets<8,>=7.6.0->here-map-widget-for-jupyter>=1.1.1->leafmap) (301)\n",
      "Requirement already satisfied: pywinpty>=1.1.0 in c:\\users\\annakks\\appdata\\local\\programs\\python\\python36\\lib\\site-packages (from terminado>=0.8.3->notebook>=4.4.1->widgetsnbextension~=3.5.0->ipywidgets<8,>=7.6.0->here-map-widget-for-jupyter>=1.1.1->leafmap) (1.1.4)\n",
      "Requirement already satisfied: cffi>=1.0.0 in c:\\users\\annakks\\appdata\\local\\programs\\python\\python36\\lib\\site-packages (from argon2-cffi->notebook>=4.4.1->widgetsnbextension~=3.5.0->ipywidgets<8,>=7.6.0->here-map-widget-for-jupyter>=1.1.1->leafmap) (1.14.6)\n",
      "Requirement already satisfied: pycparser in c:\\users\\annakks\\appdata\\local\\programs\\python\\python36\\lib\\site-packages (from cffi>=1.0.0->argon2-cffi->notebook>=4.4.1->widgetsnbextension~=3.5.0->ipywidgets<8,>=7.6.0->here-map-widget-for-jupyter>=1.1.1->leafmap) (2.20)\n",
      "Requirement already satisfied: traittypes>=0.0.6 in c:\\users\\annakks\\appdata\\local\\programs\\python\\python36\\lib\\site-packages (from bqplot->leafmap) (0.2.1)\n",
      "Requirement already satisfied: zipp>=0.5 in c:\\users\\annakks\\appdata\\local\\programs\\python\\python36\\lib\\site-packages (from importlib-metadata->jsonschema!=2.5.0,>=2.4->nbformat>=4.2.0->ipywidgets<8,>=7.6.0->here-map-widget-for-jupyter>=1.1.1->leafmap) (3.5.0)\n",
      "Requirement already satisfied: typing-extensions>=3.6.4 in c:\\users\\annakks\\appdata\\local\\programs\\python\\python36\\lib\\site-packages (from importlib-metadata->jsonschema!=2.5.0,>=2.4->nbformat>=4.2.0->ipywidgets<8,>=7.6.0->here-map-widget-for-jupyter>=1.1.1->leafmap) (3.10.0.2)\n",
      "Requirement already satisfied: cycler>=0.10 in c:\\users\\annakks\\appdata\\local\\programs\\python\\python36\\lib\\site-packages (from matplotlib->leafmap) (0.10.0)\n",
      "Requirement already satisfied: pyparsing!=2.0.4,!=2.1.2,!=2.1.6,>=2.0.3 in c:\\users\\annakks\\appdata\\local\\programs\\python\\python36\\lib\\site-packages (from matplotlib->leafmap) (2.4.7)\n",
      "Requirement already satisfied: pillow>=6.2.0 in c:\\users\\annakks\\appdata\\local\\programs\\python\\python36\\lib\\site-packages (from matplotlib->leafmap) (8.3.2)\n",
      "Requirement already satisfied: kiwisolver>=1.0.1 in c:\\users\\annakks\\appdata\\local\\programs\\python\\python36\\lib\\site-packages (from matplotlib->leafmap) (1.3.1)\n",
      "Requirement already satisfied: nbclient<0.6.0,>=0.5.0 in c:\\users\\annakks\\appdata\\local\\programs\\python\\python36\\lib\\site-packages (from nbconvert->notebook>=4.4.1->widgetsnbextension~=3.5.0->ipywidgets<8,>=7.6.0->here-map-widget-for-jupyter>=1.1.1->leafmap) (0.5.4)\n",
      "Requirement already satisfied: testpath in c:\\users\\annakks\\appdata\\local\\programs\\python\\python36\\lib\\site-packages (from nbconvert->notebook>=4.4.1->widgetsnbextension~=3.5.0->ipywidgets<8,>=7.6.0->here-map-widget-for-jupyter>=1.1.1->leafmap) (0.5.0)\n",
      "Requirement already satisfied: mistune<2,>=0.8.1 in c:\\users\\annakks\\appdata\\local\\programs\\python\\python36\\lib\\site-packages (from nbconvert->notebook>=4.4.1->widgetsnbextension~=3.5.0->ipywidgets<8,>=7.6.0->here-map-widget-for-jupyter>=1.1.1->leafmap) (0.8.4)\n",
      "Requirement already satisfied: jupyterlab-pygments in c:\\users\\annakks\\appdata\\local\\programs\\python\\python36\\lib\\site-packages (from nbconvert->notebook>=4.4.1->widgetsnbextension~=3.5.0->ipywidgets<8,>=7.6.0->here-map-widget-for-jupyter>=1.1.1->leafmap) (0.1.2)\n",
      "Requirement already satisfied: pandocfilters>=1.4.1 in c:\\users\\annakks\\appdata\\local\\programs\\python\\python36\\lib\\site-packages (from nbconvert->notebook>=4.4.1->widgetsnbextension~=3.5.0->ipywidgets<8,>=7.6.0->here-map-widget-for-jupyter>=1.1.1->leafmap) (1.4.3)\n",
      "Requirement already satisfied: bleach in c:\\users\\annakks\\appdata\\local\\programs\\python\\python36\\lib\\site-packages (from nbconvert->notebook>=4.4.1->widgetsnbextension~=3.5.0->ipywidgets<8,>=7.6.0->here-map-widget-for-jupyter>=1.1.1->leafmap) (4.1.0)\n",
      "Requirement already satisfied: defusedxml in c:\\users\\annakks\\appdata\\local\\programs\\python\\python36\\lib\\site-packages (from nbconvert->notebook>=4.4.1->widgetsnbextension~=3.5.0->ipywidgets<8,>=7.6.0->here-map-widget-for-jupyter>=1.1.1->leafmap) (0.7.1)\n",
      "Requirement already satisfied: async-generator in c:\\users\\annakks\\appdata\\local\\programs\\python\\python36\\lib\\site-packages (from nbclient<0.6.0,>=0.5.0->nbconvert->notebook>=4.4.1->widgetsnbextension~=3.5.0->ipywidgets<8,>=7.6.0->here-map-widget-for-jupyter>=1.1.1->leafmap) (1.10)\n",
      "Requirement already satisfied: packaging in c:\\users\\annakks\\appdata\\local\\programs\\python\\python36\\lib\\site-packages (from bleach->nbconvert->notebook>=4.4.1->widgetsnbextension~=3.5.0->ipywidgets<8,>=7.6.0->here-map-widget-for-jupyter>=1.1.1->leafmap) (21.0)\n",
      "Requirement already satisfied: webencodings in c:\\users\\annakks\\appdata\\local\\programs\\python\\python36\\lib\\site-packages (from bleach->nbconvert->notebook>=4.4.1->widgetsnbextension~=3.5.0->ipywidgets<8,>=7.6.0->here-map-widget-for-jupyter>=1.1.1->leafmap) (0.5.1)\n",
      "Requirement already satisfied: pytz>=2017.2 in c:\\users\\annakks\\appdata\\local\\programs\\python\\python36\\lib\\site-packages (from pandas->leafmap) (2021.1)\n",
      "Requirement already satisfied: urllib3<1.27,>=1.21.1 in c:\\users\\annakks\\appdata\\local\\programs\\python\\python36\\lib\\site-packages (from requests->folium>=0.12.0->leafmap) (1.26.6)\n",
      "Requirement already satisfied: certifi>=2017.4.17 in c:\\users\\annakks\\appdata\\local\\programs\\python\\python36\\lib\\site-packages (from requests->folium>=0.12.0->leafmap) (2021.5.30)\n",
      "Requirement already satisfied: idna<4,>=2.5 in c:\\users\\annakks\\appdata\\local\\programs\\python\\python36\\lib\\site-packages (from requests->folium>=0.12.0->leafmap) (3.2)\n",
      "Requirement already satisfied: charset-normalizer~=2.0.0 in c:\\users\\annakks\\appdata\\local\\programs\\python\\python36\\lib\\site-packages (from requests->folium>=0.12.0->leafmap) (2.0.4)\n",
      "Requirement already satisfied: Click>=6.0 in c:\\users\\annakks\\appdata\\local\\programs\\python\\python36\\lib\\site-packages (from whitebox->leafmap) (7.1.2)\n",
      "Requirement already satisfied: ipytree in c:\\users\\annakks\\appdata\\local\\programs\\python\\python36\\lib\\site-packages (from whiteboxgui->leafmap) (0.2.1)\n",
      "Requirement already satisfied: ipyfilechooser in c:\\users\\annakks\\appdata\\local\\programs\\python\\python36\\lib\\site-packages (from whiteboxgui->leafmap) (0.6.0)\n"
     ]
    },
    {
     "name": "stdout",
     "output_type": "stream",
     "text": [
      "Requirement already satisfied: ipyleaflet in c:\\users\\annakks\\appdata\\local\\programs\\python\\python36\\lib\\site-packages (0.14.0)\n",
      "Requirement already satisfied: ipywidgets<8,>=7.6.0 in c:\\users\\annakks\\appdata\\local\\programs\\python\\python36\\lib\\site-packages (from ipyleaflet) (7.6.5)\n",
      "Requirement already satisfied: traittypes<3,>=0.2.1 in c:\\users\\annakks\\appdata\\local\\programs\\python\\python36\\lib\\site-packages (from ipyleaflet) (0.2.1)\n",
      "Requirement already satisfied: traitlets>=4.3.1 in c:\\users\\annakks\\appdata\\local\\programs\\python\\python36\\lib\\site-packages (from ipywidgets<8,>=7.6.0->ipyleaflet) (4.3.3)\n",
      "Requirement already satisfied: nbformat>=4.2.0 in c:\\users\\annakks\\appdata\\local\\programs\\python\\python36\\lib\\site-packages (from ipywidgets<8,>=7.6.0->ipyleaflet) (5.1.3)\n",
      "Requirement already satisfied: widgetsnbextension~=3.5.0 in c:\\users\\annakks\\appdata\\local\\programs\\python\\python36\\lib\\site-packages (from ipywidgets<8,>=7.6.0->ipyleaflet) (3.5.1)\n",
      "Requirement already satisfied: jupyterlab-widgets>=1.0.0 in c:\\users\\annakks\\appdata\\local\\programs\\python\\python36\\lib\\site-packages (from ipywidgets<8,>=7.6.0->ipyleaflet) (1.0.2)\n",
      "Requirement already satisfied: ipython-genutils~=0.2.0 in c:\\users\\annakks\\appdata\\local\\programs\\python\\python36\\lib\\site-packages (from ipywidgets<8,>=7.6.0->ipyleaflet) (0.2.0)\n",
      "Requirement already satisfied: ipykernel>=4.5.1 in c:\\users\\annakks\\appdata\\local\\programs\\python\\python36\\lib\\site-packages (from ipywidgets<8,>=7.6.0->ipyleaflet) (5.5.5)\n",
      "Requirement already satisfied: ipython>=4.0.0 in c:\\users\\annakks\\appdata\\local\\programs\\python\\python36\\lib\\site-packages (from ipywidgets<8,>=7.6.0->ipyleaflet) (7.16.1)\n",
      "Requirement already satisfied: jupyter-client in c:\\users\\annakks\\appdata\\local\\programs\\python\\python36\\lib\\site-packages (from ipykernel>=4.5.1->ipywidgets<8,>=7.6.0->ipyleaflet) (7.0.2)\n",
      "Requirement already satisfied: tornado>=4.2 in c:\\users\\annakks\\appdata\\local\\programs\\python\\python36\\lib\\site-packages (from ipykernel>=4.5.1->ipywidgets<8,>=7.6.0->ipyleaflet) (6.1)\n",
      "Requirement already satisfied: pickleshare in c:\\users\\annakks\\appdata\\local\\programs\\python\\python36\\lib\\site-packages (from ipython>=4.0.0->ipywidgets<8,>=7.6.0->ipyleaflet) (0.7.5)\n",
      "Requirement already satisfied: pygments in c:\\users\\annakks\\appdata\\local\\programs\\python\\python36\\lib\\site-packages (from ipython>=4.0.0->ipywidgets<8,>=7.6.0->ipyleaflet) (2.10.0)\n",
      "Requirement already satisfied: colorama in c:\\users\\annakks\\appdata\\roaming\\python\\python36\\site-packages (from ipython>=4.0.0->ipywidgets<8,>=7.6.0->ipyleaflet) (0.4.3)\n",
      "Requirement already satisfied: decorator in c:\\users\\annakks\\appdata\\local\\programs\\python\\python36\\lib\\site-packages (from ipython>=4.0.0->ipywidgets<8,>=7.6.0->ipyleaflet) (5.0.9)\n",
      "Requirement already satisfied: setuptools>=18.5 in c:\\users\\annakks\\appdata\\local\\programs\\python\\python36\\lib\\site-packages (from ipython>=4.0.0->ipywidgets<8,>=7.6.0->ipyleaflet) (39.0.1)\n",
      "Requirement already satisfied: jedi>=0.10 in c:\\users\\annakks\\appdata\\local\\programs\\python\\python36\\lib\\site-packages (from ipython>=4.0.0->ipywidgets<8,>=7.6.0->ipyleaflet) (0.18.0)\n",
      "Requirement already satisfied: backcall in c:\\users\\annakks\\appdata\\local\\programs\\python\\python36\\lib\\site-packages (from ipython>=4.0.0->ipywidgets<8,>=7.6.0->ipyleaflet) (0.2.0)\n",
      "Requirement already satisfied: prompt-toolkit!=3.0.0,!=3.0.1,<3.1.0,>=2.0.0 in c:\\users\\annakks\\appdata\\local\\programs\\python\\python36\\lib\\site-packages (from ipython>=4.0.0->ipywidgets<8,>=7.6.0->ipyleaflet) (3.0.20)\n",
      "Requirement already satisfied: parso<0.9.0,>=0.8.0 in c:\\users\\annakks\\appdata\\local\\programs\\python\\python36\\lib\\site-packages (from jedi>=0.10->ipython>=4.0.0->ipywidgets<8,>=7.6.0->ipyleaflet) (0.8.2)\n",
      "Requirement already satisfied: jsonschema!=2.5.0,>=2.4 in c:\\users\\annakks\\appdata\\local\\programs\\python\\python36\\lib\\site-packages (from nbformat>=4.2.0->ipywidgets<8,>=7.6.0->ipyleaflet) (3.2.0)\n",
      "Requirement already satisfied: jupyter-core in c:\\users\\annakks\\appdata\\local\\programs\\python\\python36\\lib\\site-packages (from nbformat>=4.2.0->ipywidgets<8,>=7.6.0->ipyleaflet) (4.7.1)\n",
      "Requirement already satisfied: pyrsistent>=0.14.0 in c:\\users\\annakks\\appdata\\local\\programs\\python\\python36\\lib\\site-packages (from jsonschema!=2.5.0,>=2.4->nbformat>=4.2.0->ipywidgets<8,>=7.6.0->ipyleaflet) (0.18.0)\n",
      "Requirement already satisfied: six>=1.11.0 in c:\\users\\annakks\\appdata\\local\\programs\\python\\python36\\lib\\site-packages (from jsonschema!=2.5.0,>=2.4->nbformat>=4.2.0->ipywidgets<8,>=7.6.0->ipyleaflet) (1.16.0)\n",
      "Requirement already satisfied: importlib-metadata in c:\\users\\annakks\\appdata\\local\\programs\\python\\python36\\lib\\site-packages (from jsonschema!=2.5.0,>=2.4->nbformat>=4.2.0->ipywidgets<8,>=7.6.0->ipyleaflet) (4.8.1)\n",
      "Requirement already satisfied: attrs>=17.4.0 in c:\\users\\annakks\\appdata\\local\\programs\\python\\python36\\lib\\site-packages (from jsonschema!=2.5.0,>=2.4->nbformat>=4.2.0->ipywidgets<8,>=7.6.0->ipyleaflet) (21.2.0)\n",
      "Requirement already satisfied: wcwidth in c:\\users\\annakks\\appdata\\local\\programs\\python\\python36\\lib\\site-packages (from prompt-toolkit!=3.0.0,!=3.0.1,<3.1.0,>=2.0.0->ipython>=4.0.0->ipywidgets<8,>=7.6.0->ipyleaflet) (0.2.5)\n",
      "Requirement already satisfied: notebook>=4.4.1 in c:\\users\\annakks\\appdata\\local\\programs\\python\\python36\\lib\\site-packages (from widgetsnbextension~=3.5.0->ipywidgets<8,>=7.6.0->ipyleaflet) (6.4.4)\n",
      "Requirement already satisfied: pyzmq>=17 in c:\\users\\annakks\\appdata\\local\\programs\\python\\python36\\lib\\site-packages (from notebook>=4.4.1->widgetsnbextension~=3.5.0->ipywidgets<8,>=7.6.0->ipyleaflet) (22.2.1)\n",
      "Requirement already satisfied: argon2-cffi in c:\\users\\annakks\\appdata\\local\\programs\\python\\python36\\lib\\site-packages (from notebook>=4.4.1->widgetsnbextension~=3.5.0->ipywidgets<8,>=7.6.0->ipyleaflet) (21.1.0)\n",
      "Requirement already satisfied: terminado>=0.8.3 in c:\\users\\annakks\\appdata\\local\\programs\\python\\python36\\lib\\site-packages (from notebook>=4.4.1->widgetsnbextension~=3.5.0->ipywidgets<8,>=7.6.0->ipyleaflet) (0.12.1)\n",
      "Requirement already satisfied: nbconvert in c:\\users\\annakks\\appdata\\local\\programs\\python\\python36\\lib\\site-packages (from notebook>=4.4.1->widgetsnbextension~=3.5.0->ipywidgets<8,>=7.6.0->ipyleaflet) (6.0.7)\n",
      "Requirement already satisfied: prometheus-client in c:\\users\\annakks\\appdata\\local\\programs\\python\\python36\\lib\\site-packages (from notebook>=4.4.1->widgetsnbextension~=3.5.0->ipywidgets<8,>=7.6.0->ipyleaflet) (0.11.0)\n",
      "Requirement already satisfied: Send2Trash>=1.5.0 in c:\\users\\annakks\\appdata\\local\\programs\\python\\python36\\lib\\site-packages (from notebook>=4.4.1->widgetsnbextension~=3.5.0->ipywidgets<8,>=7.6.0->ipyleaflet) (1.8.0)\n",
      "Requirement already satisfied: jinja2 in c:\\users\\annakks\\appdata\\local\\programs\\python\\python36\\lib\\site-packages (from notebook>=4.4.1->widgetsnbextension~=3.5.0->ipywidgets<8,>=7.6.0->ipyleaflet) (3.0.1)\n",
      "Requirement already satisfied: python-dateutil>=2.1 in c:\\users\\annakks\\appdata\\local\\programs\\python\\python36\\lib\\site-packages (from jupyter-client->ipykernel>=4.5.1->ipywidgets<8,>=7.6.0->ipyleaflet) (2.8.2)\n",
      "Requirement already satisfied: entrypoints in c:\\users\\annakks\\appdata\\local\\programs\\python\\python36\\lib\\site-packages (from jupyter-client->ipykernel>=4.5.1->ipywidgets<8,>=7.6.0->ipyleaflet) (0.3)\n",
      "Requirement already satisfied: nest-asyncio>=1.5 in c:\\users\\annakks\\appdata\\local\\programs\\python\\python36\\lib\\site-packages (from jupyter-client->ipykernel>=4.5.1->ipywidgets<8,>=7.6.0->ipyleaflet) (1.5.1)\n",
      "Requirement already satisfied: pywin32>=1.0 in c:\\users\\annakks\\appdata\\local\\programs\\python\\python36\\lib\\site-packages (from jupyter-core->nbformat>=4.2.0->ipywidgets<8,>=7.6.0->ipyleaflet) (301)\n",
      "Requirement already satisfied: pywinpty>=1.1.0 in c:\\users\\annakks\\appdata\\local\\programs\\python\\python36\\lib\\site-packages (from terminado>=0.8.3->notebook>=4.4.1->widgetsnbextension~=3.5.0->ipywidgets<8,>=7.6.0->ipyleaflet) (1.1.4)\n",
      "Requirement already satisfied: cffi>=1.0.0 in c:\\users\\annakks\\appdata\\local\\programs\\python\\python36\\lib\\site-packages (from argon2-cffi->notebook>=4.4.1->widgetsnbextension~=3.5.0->ipywidgets<8,>=7.6.0->ipyleaflet) (1.14.6)\n",
      "Requirement already satisfied: pycparser in c:\\users\\annakks\\appdata\\local\\programs\\python\\python36\\lib\\site-packages (from cffi>=1.0.0->argon2-cffi->notebook>=4.4.1->widgetsnbextension~=3.5.0->ipywidgets<8,>=7.6.0->ipyleaflet) (2.20)\n",
      "Requirement already satisfied: zipp>=0.5 in c:\\users\\annakks\\appdata\\local\\programs\\python\\python36\\lib\\site-packages (from importlib-metadata->jsonschema!=2.5.0,>=2.4->nbformat>=4.2.0->ipywidgets<8,>=7.6.0->ipyleaflet) (3.5.0)\n",
      "Requirement already satisfied: typing-extensions>=3.6.4 in c:\\users\\annakks\\appdata\\local\\programs\\python\\python36\\lib\\site-packages (from importlib-metadata->jsonschema!=2.5.0,>=2.4->nbformat>=4.2.0->ipywidgets<8,>=7.6.0->ipyleaflet) (3.10.0.2)\n",
      "Requirement already satisfied: MarkupSafe>=2.0 in c:\\users\\annakks\\appdata\\local\\programs\\python\\python36\\lib\\site-packages (from jinja2->notebook>=4.4.1->widgetsnbextension~=3.5.0->ipywidgets<8,>=7.6.0->ipyleaflet) (2.0.1)\n",
      "Requirement already satisfied: jupyterlab-pygments in c:\\users\\annakks\\appdata\\local\\programs\\python\\python36\\lib\\site-packages (from nbconvert->notebook>=4.4.1->widgetsnbextension~=3.5.0->ipywidgets<8,>=7.6.0->ipyleaflet) (0.1.2)\n",
      "Requirement already satisfied: bleach in c:\\users\\annakks\\appdata\\local\\programs\\python\\python36\\lib\\site-packages (from nbconvert->notebook>=4.4.1->widgetsnbextension~=3.5.0->ipywidgets<8,>=7.6.0->ipyleaflet) (4.1.0)\n",
      "Requirement already satisfied: nbclient<0.6.0,>=0.5.0 in c:\\users\\annakks\\appdata\\local\\programs\\python\\python36\\lib\\site-packages (from nbconvert->notebook>=4.4.1->widgetsnbextension~=3.5.0->ipywidgets<8,>=7.6.0->ipyleaflet) (0.5.4)\n",
      "Requirement already satisfied: defusedxml in c:\\users\\annakks\\appdata\\local\\programs\\python\\python36\\lib\\site-packages (from nbconvert->notebook>=4.4.1->widgetsnbextension~=3.5.0->ipywidgets<8,>=7.6.0->ipyleaflet) (0.7.1)\n",
      "Requirement already satisfied: testpath in c:\\users\\annakks\\appdata\\local\\programs\\python\\python36\\lib\\site-packages (from nbconvert->notebook>=4.4.1->widgetsnbextension~=3.5.0->ipywidgets<8,>=7.6.0->ipyleaflet) (0.5.0)\n",
      "Requirement already satisfied: mistune<2,>=0.8.1 in c:\\users\\annakks\\appdata\\local\\programs\\python\\python36\\lib\\site-packages (from nbconvert->notebook>=4.4.1->widgetsnbextension~=3.5.0->ipywidgets<8,>=7.6.0->ipyleaflet) (0.8.4)\n",
      "Requirement already satisfied: pandocfilters>=1.4.1 in c:\\users\\annakks\\appdata\\local\\programs\\python\\python36\\lib\\site-packages (from nbconvert->notebook>=4.4.1->widgetsnbextension~=3.5.0->ipywidgets<8,>=7.6.0->ipyleaflet) (1.4.3)\n"
     ]
    },
    {
     "name": "stdout",
     "output_type": "stream",
     "text": [
      "Requirement already satisfied: async-generator in c:\\users\\annakks\\appdata\\local\\programs\\python\\python36\\lib\\site-packages (from nbclient<0.6.0,>=0.5.0->nbconvert->notebook>=4.4.1->widgetsnbextension~=3.5.0->ipywidgets<8,>=7.6.0->ipyleaflet) (1.10)\n",
      "Requirement already satisfied: packaging in c:\\users\\annakks\\appdata\\local\\programs\\python\\python36\\lib\\site-packages (from bleach->nbconvert->notebook>=4.4.1->widgetsnbextension~=3.5.0->ipywidgets<8,>=7.6.0->ipyleaflet) (21.0)\n",
      "Requirement already satisfied: webencodings in c:\\users\\annakks\\appdata\\local\\programs\\python\\python36\\lib\\site-packages (from bleach->nbconvert->notebook>=4.4.1->widgetsnbextension~=3.5.0->ipywidgets<8,>=7.6.0->ipyleaflet) (0.5.1)\n",
      "Requirement already satisfied: pyparsing>=2.0.2 in c:\\users\\annakks\\appdata\\local\\programs\\python\\python36\\lib\\site-packages (from packaging->bleach->nbconvert->notebook>=4.4.1->widgetsnbextension~=3.5.0->ipywidgets<8,>=7.6.0->ipyleaflet) (2.4.7)\n",
      "Requirement already satisfied: awscli in c:\\users\\annakks\\appdata\\roaming\\python\\python36\\site-packages (1.20.43)\n",
      "Requirement already satisfied: PyYAML<5.5,>=3.10 in c:\\users\\annakks\\appdata\\roaming\\python\\python36\\site-packages (from awscli) (5.4.1)\n",
      "Requirement already satisfied: s3transfer<0.6.0,>=0.5.0 in c:\\users\\annakks\\appdata\\local\\programs\\python\\python36\\lib\\site-packages (from awscli) (0.5.0)\n",
      "Requirement already satisfied: rsa<4.8,>=3.1.2 in c:\\users\\annakks\\appdata\\roaming\\python\\python36\\site-packages (from awscli) (4.7.2)\n",
      "Requirement already satisfied: docutils<0.16,>=0.10 in c:\\users\\annakks\\appdata\\roaming\\python\\python36\\site-packages (from awscli) (0.15.2)\n",
      "Requirement already satisfied: colorama<0.4.4,>=0.2.5 in c:\\users\\annakks\\appdata\\roaming\\python\\python36\\site-packages (from awscli) (0.4.3)\n",
      "Requirement already satisfied: botocore==1.21.43 in c:\\users\\annakks\\appdata\\local\\programs\\python\\python36\\lib\\site-packages (from awscli) (1.21.43)\n",
      "Requirement already satisfied: urllib3<1.27,>=1.25.4 in c:\\users\\annakks\\appdata\\local\\programs\\python\\python36\\lib\\site-packages (from botocore==1.21.43->awscli) (1.26.6)\n",
      "Requirement already satisfied: jmespath<1.0.0,>=0.7.1 in c:\\users\\annakks\\appdata\\local\\programs\\python\\python36\\lib\\site-packages (from botocore==1.21.43->awscli) (0.10.0)\n",
      "Requirement already satisfied: python-dateutil<3.0.0,>=2.1 in c:\\users\\annakks\\appdata\\local\\programs\\python\\python36\\lib\\site-packages (from botocore==1.21.43->awscli) (2.8.2)\n",
      "Requirement already satisfied: six>=1.5 in c:\\users\\annakks\\appdata\\local\\programs\\python\\python36\\lib\\site-packages (from python-dateutil<3.0.0,>=2.1->botocore==1.21.43->awscli) (1.16.0)\n",
      "Requirement already satisfied: pyasn1>=0.1.3 in c:\\users\\annakks\\appdata\\roaming\\python\\python36\\site-packages (from rsa<4.8,>=3.1.2->awscli) (0.4.8)\n"
     ]
    }
   ],
   "source": [
    "!pip install requests\n",
    "!pip install json\n",
    "!pip install pystac[orjson]\n",
    "!pip install pystac[validation]\n",
    "!pip install pystac\n",
    "!pip install boto3\n",
    "!pip install shapely\n",
    "!pip install leafmap\n",
    "!pip install ipyleaflet\n",
    "!pip install awscli --user\n",
    "!pip install opencv-python==3.4.8.29\n",
    "!pip install flask\n"
   ]
  },
  {
   "cell_type": "markdown",
   "metadata": {},
   "source": [
    "### Bibliotecas"
   ]
  },
  {
   "cell_type": "code",
   "execution_count": null,
   "metadata": {},
   "outputs": [],
   "source": [
    "import pystac\n",
    "import csv\n",
    "import gzip\n",
    "from io import StringIO\n",
    "from urllib.request import urlopen\n",
    "import requests\n",
    "import os\n",
    "import json\n",
    "import random\n",
    "import leafmap\n",
    "from ipyleaflet import Map, GeoJSON\n",
    "from PIL import Image\n",
    "import cv2\n",
    "import numpy as np\n",
    "import zipfile\n",
    "\n"
   ]
  },
  {
   "cell_type": "markdown",
   "metadata": {},
   "source": [
    "### Insira as varáveis para busca"
   ]
  },
  {
   "cell_type": "code",
   "execution_count": null,
   "metadata": {},
   "outputs": [],
   "source": [
    "# Dicionário de câmeras do CBERS4\n",
    "\n",
    "cameras = {\n",
    "'AWFI' : 'https://s3.amazonaws.com/cbers-meta-pds/AWFIscene_list.csv.gz',\n",
    "'MUX' : 'https://s3.amazonaws.com/cbers-meta-pds/MUXscene_list.csv.gz',\n",
    "'PAN1' : ' https://s3.amazonaws.com/cbers-meta-pds/PAN10Mscene_list.csv.gz',\n",
    "'PAN5M' : ' https://s3.amazonaws.com/cbers-meta-pds/PAN5Mscene_list.csv.gz'}"
   ]
  },
  {
   "cell_type": "code",
   "execution_count": null,
   "metadata": {},
   "outputs": [],
   "source": [
    "#AWFI, MUX, PAN1 OU PAN5M\n",
    "camera = cameras['MUX']\n",
    "\n",
    "#Intervalo de datas para procurar\n",
    "data_inicio = '2020-09-01'\n",
    "data_fim = '2020-09-31'\n",
    "\n",
    "#latitude e longitude\n",
    "lat = -23.1791\n",
    "lon = -45.8872\n",
    "\n"
   ]
  },
  {
   "cell_type": "markdown",
   "metadata": {},
   "source": [
    "### Acessando AWS"
   ]
  },
  {
   "cell_type": "markdown",
   "metadata": {},
   "source": [
    "#### Leitura e unzip dos links"
   ]
  },
  {
   "cell_type": "code",
   "execution_count": null,
   "metadata": {},
   "outputs": [],
   "source": [
    "# Leitura e unzip\n",
    "response = urlopen(camera)\n",
    "gunzip_response = gzip.GzipFile(fileobj=response)\n",
    "content = gunzip_response.read()\n",
    " \n",
    "# Lendo o dicionário\n",
    "scenes = list(csv.DictReader(StringIO(content.decode(\"utf-8\"))))"
   ]
  },
  {
   "cell_type": "code",
   "execution_count": null,
   "metadata": {},
   "outputs": [],
   "source": [
    "# Visualizando o formato do aqui\n",
    "\n",
    "scenes[0]"
   ]
  },
  {
   "cell_type": "markdown",
   "metadata": {},
   "source": [
    "#### Inserir filtros - Data e Local"
   ]
  },
  {
   "cell_type": "markdown",
   "metadata": {},
   "source": [
    "##### Função que realiza o filtro"
   ]
  },
  {
   "cell_type": "code",
   "execution_count": null,
   "metadata": {},
   "outputs": [],
   "source": [
    " \n",
    "def filtro_busca(scene):\n",
    "    lat_max = float(scene['ul_lat'])\n",
    "    lat_min = float(scene['lr_lat']) \n",
    "    lon_max = float(scene['ur_lon']) \n",
    "    lon_min = float(scene['ll_lon'])\n",
    "    localizacao = lat_min <= lat and lat_max >= lat and \\\n",
    "                       lon_min <= lon and lon_max >= lon\n",
    "    \n",
    "    data_filtro = scene['acquisition_date'] >= '{}'.format(data_inicio) and scene['acquisition_date'] <= '{}'.format(data_fim)\n",
    "\n",
    "    return data_filtro and localizacao\n",
    "        \n"
   ]
  },
  {
   "cell_type": "markdown",
   "metadata": {},
   "source": [
    "##### Realizando busca"
   ]
  },
  {
   "cell_type": "code",
   "execution_count": null,
   "metadata": {},
   "outputs": [],
   "source": [
    "busca_satelite = [scene for scene in scenes if filtro_busca(scene)]\n"
   ]
  },
  {
   "cell_type": "markdown",
   "metadata": {},
   "source": [
    "##### Resultados"
   ]
  },
  {
   "cell_type": "code",
   "execution_count": null,
   "metadata": {},
   "outputs": [],
   "source": [
    "#Quantidade\n",
    "len(busca_satelite)"
   ]
  },
  {
   "cell_type": "code",
   "execution_count": null,
   "metadata": {},
   "outputs": [],
   "source": [
    "# Mostra as datas dos resultados\n",
    "\n",
    "i = 0\n",
    "resultado = []\n",
    "if len(busca_satelite) > 1:\n",
    "    while i < len(busca_satelite):\n",
    "         busca = [busca_satelite[i]['acquisition_date'][0:10], busca_satelite[i]]\n",
    "         resultado.append(busca)\n",
    "         print(busca_satelite[0]['acquisition_date'][0:10])\n",
    "         i = i + 1\n",
    "else:\n",
    "    busca = [busca_satelite[i]['acquisition_date'][0:10], busca_satelite[0]]\n",
    "    resultado.append(busca)\n",
    "    print(busca_satelite[0]['acquisition_date'][0:10])"
   ]
  },
  {
   "cell_type": "code",
   "execution_count": null,
   "metadata": {},
   "outputs": [],
   "source": [
    "# Os resultados foram inseridos em uma lista e transformados em um dicionário \n",
    "resultado = dict(resultado)\n"
   ]
  },
  {
   "cell_type": "code",
   "execution_count": null,
   "metadata": {},
   "outputs": [],
   "source": [
    "#Escolhe um dos resultados\n",
    "data = '2020-09-24'\n",
    "pesquisa = resultado[data]"
   ]
  },
  {
   "cell_type": "code",
   "execution_count": null,
   "metadata": {},
   "outputs": [],
   "source": [
    "# Visualizando o resultado\n",
    "pesquisa"
   ]
  },
  {
   "cell_type": "markdown",
   "metadata": {},
   "source": [
    "### Acessando o STAC"
   ]
  },
  {
   "cell_type": "code",
   "execution_count": null,
   "metadata": {},
   "outputs": [],
   "source": [
    "# Forma a URL de acesso ao STAC de acordo com o resultado dos filtros aplicados\n",
    "\n",
    "url_json = \"https://cbers-stac-1-0.s3.amazonaws.com/\" + pesquisa['download_url']+\".json\""
   ]
  },
  {
   "cell_type": "code",
   "execution_count": null,
   "metadata": {},
   "outputs": [],
   "source": [
    "url_json"
   ]
  },
  {
   "cell_type": "code",
   "execution_count": null,
   "metadata": {},
   "outputs": [],
   "source": [
    "#Acessa o STAC\n",
    "\n",
    "link_json = requests.get(url_json)\n",
    "\n",
    "# Faz a leitura do arquivo json\n",
    "\n",
    "arquivo_json = link_json.json()"
   ]
  },
  {
   "cell_type": "markdown",
   "metadata": {},
   "source": [
    "### Acessando, Visualizando e Baixando as Imagens"
   ]
  },
  {
   "cell_type": "markdown",
   "metadata": {},
   "source": [
    "#### Imagens JPG"
   ]
  },
  {
   "cell_type": "code",
   "execution_count": null,
   "metadata": {},
   "outputs": [],
   "source": [
    "#Função para visualizar a imagem em formato JPG\n",
    "\n",
    "def visualizar_jpg(url):\n",
    "    img_jpg = Image.open(requests.get(url, stream=True).raw)\n",
    "    return img_jpg"
   ]
  },
  {
   "cell_type": "code",
   "execution_count": null,
   "metadata": {},
   "outputs": [],
   "source": [
    "#Ação para visualizar a imagem\n",
    "\n",
    "img_jpg_url = arquivo_json['assets']['thumbnail']['href']\n",
    "visualizar_jpg(img_jpg_url)"
   ]
  },
  {
   "cell_type": "markdown",
   "metadata": {},
   "source": [
    "#### Imagem TIFF"
   ]
  },
  {
   "cell_type": "code",
   "execution_count": null,
   "metadata": {},
   "outputs": [],
   "source": [
    "#Filtro para acessar a imagem dentro do arquivo JSON\n",
    "\n",
    "img_jpg_url = arquivo_json['assets']['thumbnail']['href']\n",
    "img_jpg_url"
   ]
  },
  {
   "cell_type": "code",
   "execution_count": null,
   "metadata": {},
   "outputs": [],
   "source": [
    "#Função para baixar imagem TIFF\n",
    "\n",
    "def baixar_img_tiff(url):\n",
    "  with open(\"imagem-satelite.tiff\", 'wb') as imagem:\n",
    "    resposta = requests.get(url, stream=True)\n",
    "\n",
    "    if not resposta.ok:\n",
    "      print(\"Ocorreu um erro, status:\" , resposta.status_code)\n",
    "    else:\n",
    "      for dado in resposta.iter_content(1024):\n",
    "        if not dado:\n",
    "            break\n",
    "\n",
    "        imagem.write(dado)\n",
    "\n",
    "  return print(\"Imagem salva! É só acessar sua pasta agora =)\")"
   ]
  },
  {
   "cell_type": "code",
   "execution_count": null,
   "metadata": {},
   "outputs": [],
   "source": [
    "# Ação para baixar a imagem TIFF\n",
    "\n",
    "baixar_img_tiff(img_jpg_url)"
   ]
  },
  {
   "cell_type": "code",
   "execution_count": null,
   "metadata": {},
   "outputs": [],
   "source": [
    "#Função para baixar as bandas separadas e salvar em um zip\n",
    "\n",
    "def baixar_bandas():\n",
    "    \n",
    "    # Separando a imagem em 3 bandas e salvando\n",
    "    img = cv2.imread(\"imagem-satelite.tiff\")\n",
    "    (canalAzul, canalVerde, canalVermelho) = cv2.split(img)\n",
    "    zeros = np.zeros(img.shape[:2], dtype = \"uint8\")\n",
    "\n",
    "\n",
    "    # Código abaixo abre as imagens\n",
    "    #cv2.imshow(\"Banda_4_vermelho\", cv2.merge([zeros, zeros, canalVermelho]))\n",
    "    #cv2.imshow(\"Banda_3_verde\", cv2.merge([zeros, canalVerde, zeros]))\n",
    "    #cv2.imshow(\"Banda_2_azul\", cv2.merge([canalAzul, zeros, zeros]))\n",
    "    #cv2.waitKey(0)\n",
    "\n",
    "\n",
    "    # Salvando imagems fragmentadas em bandas RGB\n",
    "    cv2.imwrite(\"Banda_4_vermelho.tiff\", cv2.merge([zeros, zeros, canalVermelho]))\n",
    "    cv2.imwrite(\"Banda_3_verde.tiff\", cv2.merge([zeros, canalVerde, zeros]))\n",
    "    cv2.imwrite(\"Banda_2_azul.tiff\", cv2.merge([canalAzul, zeros, zeros]))\n",
    "\n",
    "    \n",
    "    # Abrindo uma pasta .zip, armazenando e fechando\n",
    "    z = zipfile.ZipFile('satelite.zip', 'w', zipfile.ZIP_DEFLATED)\n",
    "    z.write(\"Banda_4_vermelho.tiff\")\n",
    "    z.write(\"Banda_3_verde.tiff\")\n",
    "    z.write(\"Banda_2_azul.tiff\")\n",
    "    z.close()\n",
    "    return print(\"Salvo!! É só acessar sua pasta agora =)\")"
   ]
  },
  {
   "cell_type": "code",
   "execution_count": null,
   "metadata": {},
   "outputs": [],
   "source": [
    "#Ação para baixar as bandas\n",
    "\n",
    "baixar_bandas()"
   ]
  },
  {
   "cell_type": "code",
   "execution_count": null,
   "metadata": {},
   "outputs": [],
   "source": [
    "def contraste_brilho():\n",
    "    img = cv2.imread(\"imagem-satelite.tiff\")\n",
    "\n",
    "    alpha = 2 # Controle de Contraste (pode variar de 1.0 a 3.0)\n",
    "    beta = 0 # Controle de brilho (pode variar de 0 a 100)\n",
    "\n",
    "    adjuste = cv2.convertScaleAbs(img, alpha=alpha, beta=beta)\n",
    "    cv2.imwrite(\"novasatelite.tiff\", adjuste)\n",
    "    return print(\"Salvo!! É só acessar sua pasta agora =)\")"
   ]
  },
  {
   "cell_type": "markdown",
   "metadata": {},
   "source": [
    "#### LeafMap Dinâmico com as Imagens"
   ]
  },
  {
   "cell_type": "markdown",
   "metadata": {},
   "source": [
    "##### Marcar local de abrangência"
   ]
  },
  {
   "cell_type": "code",
   "execution_count": null,
   "metadata": {},
   "outputs": [],
   "source": [
    "#Função para gerar mapa com marcador \n",
    "\n",
    "\n",
    "def marcador_leafmap(data):\n",
    "    m = leafmap.Map(center=(lat, lon),zoom=7)\n",
    "    geo_json = GeoJSON(\n",
    "        data=data)\n",
    "    m.add_layer(geo_json)\n",
    "    return m\n",
    "\n"
   ]
  },
  {
   "cell_type": "code",
   "execution_count": null,
   "metadata": {},
   "outputs": [],
   "source": [
    "# Visualizar mapa\n",
    "\n",
    "marcador_leafmap(arquivo_json)\n"
   ]
  }
 ],
 "metadata": {
  "interpreter": {
   "hash": "58ffcc872b692a7e3f8ad1636be9bdb0df4858b1a9587610b6c071b0b22c8214"
  },
  "kernelspec": {
   "display_name": "Python 3",
   "language": "python",
   "name": "python3"
  },
  "language_info": {
   "codemirror_mode": {
    "name": "ipython",
    "version": 3
   },
   "file_extension": ".py",
   "mimetype": "text/x-python",
   "name": "python",
   "nbconvert_exporter": "python",
   "pygments_lexer": "ipython3",
   "version": "3.9.4"
  }
 },
 "nbformat": 4,
 "nbformat_minor": 4
}
